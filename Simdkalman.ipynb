{
 "cells": [
  {
   "cell_type": "code",
   "execution_count": 2,
   "id": "35334ce5",
   "metadata": {},
   "outputs": [],
   "source": [
    "import pandas as pd\n",
    "import numpy as np\n",
    "import matplotlib as mp"
   ]
  },
  {
   "cell_type": "code",
   "execution_count": 3,
   "id": "e8c9f0cc",
   "metadata": {},
   "outputs": [],
   "source": [
    "data = pd.read_csv(\"Sampled Data.csv\")"
   ]
  },
  {
   "cell_type": "code",
   "execution_count": 4,
   "id": "fe56e8f5",
   "metadata": {},
   "outputs": [],
   "source": [
    "data.columns = data.columns.str.replace(' ', '_')"
   ]
  },
  {
   "cell_type": "code",
   "execution_count": 5,
   "id": "4bc191b2",
   "metadata": {},
   "outputs": [],
   "source": [
    "month1 = data[data.Month == 1]"
   ]
  },
  {
   "cell_type": "code",
   "execution_count": 6,
   "id": "7393ba23",
   "metadata": {},
   "outputs": [],
   "source": [
    "hour0 = month1[month1.Hour == 0]"
   ]
  },
  {
   "cell_type": "code",
   "execution_count": 7,
   "id": "23eb2fd5",
   "metadata": {},
   "outputs": [],
   "source": [
    "import simdkalman as sk"
   ]
  },
  {
   "cell_type": "code",
   "execution_count": 8,
   "id": "aa843cec",
   "metadata": {},
   "outputs": [],
   "source": [
    "from numpy import dot"
   ]
  },
  {
   "cell_type": "code",
   "execution_count": 9,
   "id": "6670a827",
   "metadata": {},
   "outputs": [],
   "source": [
    "def kf_predict (X, P, A, Q, B, U):\n",
    "    X = dot(A, X) + dot(B, U)\n",
    "    P = dot(A, dot(P, A.T)) + Q\n",
    "    return (X, P)"
   ]
  },
  {
   "cell_type": "code",
   "execution_count": 11,
   "id": "9a68a814",
   "metadata": {},
   "outputs": [],
   "source": [
    "meanCSDHI = data.Clearsky_DHI.mean()"
   ]
  },
  {
   "cell_type": "code",
   "execution_count": 12,
   "id": "66d77ff9",
   "metadata": {},
   "outputs": [
    {
     "data": {
      "text/plain": [
       "94.33208105646631"
      ]
     },
     "execution_count": 12,
     "metadata": {},
     "output_type": "execute_result"
    }
   ],
   "source": [
    "meanCSDHI\n"
   ]
  },
  {
   "cell_type": "code",
   "execution_count": 13,
   "id": "70219136",
   "metadata": {},
   "outputs": [],
   "source": [
    "X = meanCSDHI"
   ]
  },
  {
   "cell_type": "code",
   "execution_count": 15,
   "id": "82caacef",
   "metadata": {},
   "outputs": [],
   "source": [
    "P = data.Clearsky_DHI.var()"
   ]
  },
  {
   "cell_type": "code",
   "execution_count": 17,
   "id": "77724842",
   "metadata": {},
   "outputs": [
    {
     "data": {
      "text/plain": [
       "14141.108769161834"
      ]
     },
     "execution_count": 17,
     "metadata": {},
     "output_type": "execute_result"
    }
   ],
   "source": [
    "P"
   ]
  },
  {
   "cell_type": "code",
   "execution_count": null,
   "id": "1233c149",
   "metadata": {},
   "outputs": [],
   "source": [
    "# https://arxiv.org/ftp/arxiv/papers/1204/1204.0375.pdf"
   ]
  }
 ],
 "metadata": {
  "kernelspec": {
   "display_name": "Python 3 (ipykernel)",
   "language": "python",
   "name": "python3"
  },
  "language_info": {
   "codemirror_mode": {
    "name": "ipython",
    "version": 3
   },
   "file_extension": ".py",
   "mimetype": "text/x-python",
   "name": "python",
   "nbconvert_exporter": "python",
   "pygments_lexer": "ipython3",
   "version": "3.9.7"
  }
 },
 "nbformat": 4,
 "nbformat_minor": 5
}
