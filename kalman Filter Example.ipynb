{
 "cells": [
  {
   "cell_type": "code",
   "execution_count": 3,
   "id": "14cbaab9",
   "metadata": {},
   "outputs": [],
   "source": [
    "from filterpy.kalman import predict\n",
    "import numpy as np"
   ]
  },
  {
   "cell_type": "code",
   "execution_count": 4,
   "id": "83a1925c",
   "metadata": {},
   "outputs": [],
   "source": [
    "x = np.array([10.0, 4.5])"
   ]
  },
  {
   "cell_type": "code",
   "execution_count": 5,
   "id": "8a443055",
   "metadata": {},
   "outputs": [],
   "source": [
    "P = np.diag([500, 49])"
   ]
  },
  {
   "cell_type": "code",
   "execution_count": 7,
   "id": "a5da08db",
   "metadata": {},
   "outputs": [],
   "source": [
    "dt = 0.1\n",
    "F = np.array([[1, dt], [0, 1]])"
   ]
  },
  {
   "cell_type": "code",
   "execution_count": 8,
   "id": "97fe1221",
   "metadata": {},
   "outputs": [],
   "source": [
    "x, P = predict(x = x, P = P, F = F, Q = 0)"
   ]
  },
  {
   "cell_type": "code",
   "execution_count": 9,
   "id": "7588f8aa",
   "metadata": {},
   "outputs": [
    {
     "name": "stdout",
     "output_type": "stream",
     "text": [
      "x =  [10.45  4.5 ]\n"
     ]
    }
   ],
   "source": [
    "print('x = ', x)"
   ]
  },
  {
   "cell_type": "code",
   "execution_count": 11,
   "id": "e5a4fadb",
   "metadata": {},
   "outputs": [],
   "source": [
    "x = np.array([10.0, 4.5])"
   ]
  },
  {
   "cell_type": "code",
   "execution_count": 12,
   "id": "3d486bdf",
   "metadata": {},
   "outputs": [
    {
     "name": "stdout",
     "output_type": "stream",
     "text": [
      "x =  [10.45  4.5 ]\n",
      "x =  [10.9  4.5]\n",
      "x =  [11.35  4.5 ]\n",
      "x =  [11.8  4.5]\n"
     ]
    }
   ],
   "source": [
    "for _ in range(4):\n",
    "    x, P = predict(x = x, P = P, F = F, Q = 0)\n",
    "    print('x = ', x)"
   ]
  },
  {
   "cell_type": "code",
   "execution_count": 13,
   "id": "a04802dd",
   "metadata": {},
   "outputs": [
    {
     "name": "stdout",
     "output_type": "stream",
     "text": [
      "[[539.69  44.1 ]\n",
      " [ 44.1   49.  ]]\n"
     ]
    }
   ],
   "source": [
    "print(P)"
   ]
  },
  {
   "cell_type": "code",
   "execution_count": null,
   "id": "70ae2270",
   "metadata": {},
   "outputs": [],
   "source": []
  }
 ],
 "metadata": {
  "kernelspec": {
   "display_name": "Python 3 (ipykernel)",
   "language": "python",
   "name": "python3"
  },
  "language_info": {
   "codemirror_mode": {
    "name": "ipython",
    "version": 3
   },
   "file_extension": ".py",
   "mimetype": "text/x-python",
   "name": "python",
   "nbconvert_exporter": "python",
   "pygments_lexer": "ipython3",
   "version": "3.9.7"
  }
 },
 "nbformat": 4,
 "nbformat_minor": 5
}
