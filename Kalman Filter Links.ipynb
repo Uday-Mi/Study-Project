{
 "cells": [
  {
   "cell_type": "code",
   "execution_count": 2,
   "id": "1b611b4b",
   "metadata": {},
   "outputs": [],
   "source": [
    "# https://www.kaggle.com/code/emaerthin/demonstration-of-the-kalman-filter/notebook"
   ]
  },
  {
   "cell_type": "code",
   "execution_count": 5,
   "id": "635aebf0",
   "metadata": {},
   "outputs": [],
   "source": [
    "# kaggle kernels output teejmahal20/single-model-lgbm-kalman-filter -p /path/to/dest"
   ]
  },
  {
   "cell_type": "code",
   "execution_count": 6,
   "id": "9c6af24d",
   "metadata": {},
   "outputs": [],
   "source": [
    "# https://github.com/rlabbe/Kalman-and-Bayesian-Filters-in-Python/blob/master/07-Kalman-Filter-Math.ipynb"
   ]
  },
  {
   "cell_type": "code",
   "execution_count": null,
   "id": "16d80af1",
   "metadata": {},
   "outputs": [],
   "source": []
  }
 ],
 "metadata": {
  "kernelspec": {
   "display_name": "Python 3 (ipykernel)",
   "language": "python",
   "name": "python3"
  },
  "language_info": {
   "codemirror_mode": {
    "name": "ipython",
    "version": 3
   },
   "file_extension": ".py",
   "mimetype": "text/x-python",
   "name": "python",
   "nbconvert_exporter": "python",
   "pygments_lexer": "ipython3",
   "version": "3.9.7"
  }
 },
 "nbformat": 4,
 "nbformat_minor": 5
}
