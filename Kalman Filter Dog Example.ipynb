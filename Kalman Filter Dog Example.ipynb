{
 "cells": [
  {
   "cell_type": "code",
   "execution_count": 3,
   "id": "f866f3c2",
   "metadata": {},
   "outputs": [],
   "source": [
    "import numpy as np\n",
    "import pandas as pd"
   ]
  },
  {
   "cell_type": "code",
   "execution_count": 4,
   "id": "bada1180",
   "metadata": {},
   "outputs": [],
   "source": [
    "from filterpy.kalman import KalmanFilter"
   ]
  },
  {
   "cell_type": "code",
   "execution_count": 5,
   "id": "5f0156c2",
   "metadata": {},
   "outputs": [],
   "source": [
    "dog_filter = KalmanFilter(dim_x = 2, dim_z = 1)"
   ]
  },
  {
   "cell_type": "code",
   "execution_count": 6,
   "id": "c90aa864",
   "metadata": {},
   "outputs": [
    {
     "name": "stdout",
     "output_type": "stream",
     "text": [
      "x =  [[0. 0.]]\n"
     ]
    }
   ],
   "source": [
    "print('x = ', dog_filter.x.T)"
   ]
  },
  {
   "cell_type": "code",
   "execution_count": 7,
   "id": "88a5e9d9",
   "metadata": {},
   "outputs": [
    {
     "name": "stdout",
     "output_type": "stream",
     "text": [
      "R =  [[1.]]\n"
     ]
    }
   ],
   "source": [
    "print('R = ', dog_filter.R)"
   ]
  },
  {
   "cell_type": "code",
   "execution_count": 8,
   "id": "51c9571f",
   "metadata": {},
   "outputs": [
    {
     "name": "stdout",
     "output_type": "stream",
     "text": [
      "Q =  [[1. 0.]\n",
      " [0. 1.]]\n"
     ]
    }
   ],
   "source": [
    "print('Q = ', dog_filter.Q)"
   ]
  },
  {
   "cell_type": "code",
   "execution_count": 9,
   "id": "03151206",
   "metadata": {},
   "outputs": [],
   "source": [
    "from filterpy.common import Q_discrete_white_noise"
   ]
  },
  {
   "cell_type": "code",
   "execution_count": 10,
   "id": "164f1314",
   "metadata": {},
   "outputs": [],
   "source": [
    "def pos_vel_filter(x, P, R, Q = 0, dt = 1.0):\n",
    "    kf = KalmanFilter(dim_x = 2, dim_z = 1)\n",
    "    kf.x = np.array([x[0], x[1]])\n",
    "    kf.F = np.array([[1.0, dt], \n",
    "                     [0.0, 1.0]])\n",
    "    kf.H = np.array([[1.0, 0.0]])\n",
    "    kf.R *= R\n",
    "    if np.isscalar(P):\n",
    "        kf.P *= P\n",
    "    else:\n",
    "        kf.P[:] = P\n",
    "    if np.isscalar(Q):\n",
    "        kf.Q = Q_discrete_white_noise(dim = 2, dt = dt, var = Q)\n",
    "    else:\n",
    "        kf.Q[:] = Q\n",
    "    return kf"
   ]
  },
  {
   "cell_type": "code",
   "execution_count": 11,
   "id": "8ee59e36",
   "metadata": {},
   "outputs": [],
   "source": [
    "dt = 0.1\n",
    "x = np.array([0.0, 0.0])\n",
    "kf = pos_vel_filter(x, P = 500, R = 5, Q = 0.1, dt = dt)"
   ]
  },
  {
   "cell_type": "code",
   "execution_count": 12,
   "id": "d1ecd969",
   "metadata": {},
   "outputs": [
    {
     "data": {
      "text/plain": [
       "KalmanFilter object\n",
       "dim_x = 2\n",
       "dim_z = 1\n",
       "dim_u = 0\n",
       "x = [0. 0.]\n",
       "P = [[500.   0.]\n",
       "     [  0. 500.]]\n",
       "x_prior = [[0. 0.]].T\n",
       "P_prior = [[1. 0.]\n",
       "           [0. 1.]]\n",
       "x_post = [[0. 0.]].T\n",
       "P_post = [[1. 0.]\n",
       "          [0. 1.]]\n",
       "F = [[1.  0.1]\n",
       "     [0.  1. ]]\n",
       "Q = [[2.5e-06 5.0e-05]\n",
       "     [5.0e-05 1.0e-03]]\n",
       "R = [[5.]]\n",
       "H = [[1. 0.]]\n",
       "K = [[0. 0.]].T\n",
       "y = [[0.]]\n",
       "S = [[0.]]\n",
       "SI = [[0.]]\n",
       "M = [[0.]]\n",
       "B = None\n",
       "z = [[None]]\n",
       "log-likelihood = -708.3964185322641\n",
       "likelihood = 2.2250738585072014e-308\n",
       "mahalanobis = 0.0\n",
       "alpha = 1.0\n",
       "inv = <function inv at 0x0000025970379280>"
      ]
     },
     "execution_count": 12,
     "metadata": {},
     "output_type": "execute_result"
    }
   ],
   "source": [
    "kf"
   ]
  },
  {
   "cell_type": "code",
   "execution_count": null,
   "id": "c7f78d64",
   "metadata": {},
   "outputs": [],
   "source": []
  }
 ],
 "metadata": {
  "kernelspec": {
   "display_name": "Python 3 (ipykernel)",
   "language": "python",
   "name": "python3"
  },
  "language_info": {
   "codemirror_mode": {
    "name": "ipython",
    "version": 3
   },
   "file_extension": ".py",
   "mimetype": "text/x-python",
   "name": "python",
   "nbconvert_exporter": "python",
   "pygments_lexer": "ipython3",
   "version": "3.9.7"
  }
 },
 "nbformat": 4,
 "nbformat_minor": 5
}
